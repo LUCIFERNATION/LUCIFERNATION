{
  "nbformat": 4,
  "nbformat_minor": 0,
  "metadata": {
    "colab": {
      "name": "Untitled0.ipynb",
      "provenance": [],
      "toc_visible": true,
      "authorship_tag": "ABX9TyPZof3wFiwMIotnCBOjL7AN",
      "include_colab_link": true
    },
    "kernelspec": {
      "name": "python3",
      "display_name": "Python 3"
    },
    "language_info": {
      "name": "python"
    }
  },
  "cells": [
    {
      "cell_type": "markdown",
      "metadata": {
        "id": "view-in-github",
        "colab_type": "text"
      },
      "source": [
        "<a href=\"https://colab.research.google.com/github/LUCIFERNATION/LUCIFERNATION/blob/main/Untitled0.ipynb\" target=\"_parent\"><img src=\"https://colab.research.google.com/assets/colab-badge.svg\" alt=\"Open In Colab\"/></a>"
      ]
    },
    {
      "cell_type": "markdown",
      "source": [
        "# **My Jupyter Notebook on IBM Watson Studio**"
      ],
      "metadata": {
        "id": "E_z4-wj3ZaHI"
      }
    },
    {
      "cell_type": "markdown",
      "source": [
        "**Made by Kaïs BHIR**"
      ],
      "metadata": {
        "id": "89bDgkM9Zmap"
      }
    },
    {
      "cell_type": "markdown",
      "source": [
        "Entrepreneur"
      ],
      "metadata": {
        "id": "I33pt3xbZo20"
      }
    },
    {
      "cell_type": "markdown",
      "source": [
        "*I am passionate about data science because I love gaining insights and predicting the future from data*"
      ],
      "metadata": {
        "id": "JJX20XYeZ8NJ"
      }
    },
    {
      "cell_type": "markdown",
      "source": [
        "# The following code tests the Gauss formula\n"
      ],
      "metadata": {
        "id": "_10zLPN5aR5v"
      }
    },
    {
      "cell_type": "code",
      "execution_count": 1,
      "metadata": {
        "colab": {
          "base_uri": "https://localhost:8080/"
        },
        "id": "utmD2ptDY2Fc",
        "outputId": "13b64f6f-cc7f-4a6f-f067-18f0b1c9008f"
      },
      "outputs": [
        {
          "output_type": "execute_result",
          "data": {
            "text/plain": [
              "True"
            ]
          },
          "metadata": {},
          "execution_count": 1
        }
      ],
      "source": [
        "def gauss(n):\n",
        "    return (n*(n+1))/2\n",
        "\n",
        "gauss(100) == sum(range(101))"
      ]
    }
  ]
}